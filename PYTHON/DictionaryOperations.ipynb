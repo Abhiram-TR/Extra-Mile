{
  "nbformat": 4,
  "nbformat_minor": 0,
  "metadata": {
    "colab": {
      "provenance": [],
      "authorship_tag": "ABX9TyM9nIzuvSrV0y/3Hp4JHGEf",
      "include_colab_link": true
    },
    "kernelspec": {
      "name": "python3",
      "display_name": "Python 3"
    },
    "language_info": {
      "name": "python"
    }
  },
  "cells": [
    {
      "cell_type": "markdown",
      "metadata": {
        "id": "view-in-github",
        "colab_type": "text"
      },
      "source": [
        "<a href=\"https://colab.research.google.com/github/AkarshAnilkumar/Extra-Mile/blob/main/PYTHON/DictionaryOperations.ipynb\" target=\"_parent\"><img src=\"https://colab.research.google.com/assets/colab-badge.svg\" alt=\"Open In Colab\"/></a>"
      ]
    },
    {
      "cell_type": "code",
      "execution_count": 2,
      "metadata": {
        "colab": {
          "base_uri": "https://localhost:8080/"
        },
        "id": "vIiUD6z5NykK",
        "outputId": "61e61890-99b2-43dc-9d4a-633edeb5fc51"
      },
      "outputs": [
        {
          "output_type": "stream",
          "name": "stdout",
          "text": [
            "key by value: {'the'}\n"
          ]
        }
      ],
      "source": [
        "dic ={\"To\": \"A\",\"Find\":\"B\",\"the\":\"C\",\"Index\":\"D\",\"Usingvalues\":\"E\"}\n",
        "\n",
        "value = {i for i in dic if dic[i]==\"C\"}\n",
        "print(\"key by value:\",value)\n"
      ]
    }
  ]
}